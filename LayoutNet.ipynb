{
 "cells": [
  {
   "cell_type": "code",
   "execution_count": 2,
   "metadata": {
    "colab": {
     "base_uri": "https://localhost:8080/",
     "height": 100
    },
    "colab_type": "code",
    "executionInfo": {
     "elapsed": 2989,
     "status": "ok",
     "timestamp": 1560340987649,
     "user": {
      "displayName": "Mark Wells",
      "photoUrl": "",
      "userId": "09399815559124072682"
     },
     "user_tz": -60
    },
    "id": "kdfor8hkC40a",
    "outputId": "8db0bdfc-5508-4ea3-cd54-c201b26c412f"
   },
   "outputs": [
    {
     "name": "stdout",
     "output_type": "stream",
     "text": [
      "Cloning into 'pytorch-layoutnet'...\n",
      "remote: Enumerating objects: 442, done.\u001b[K\n",
      "remote: Total 442 (delta 0), reused 0 (delta 0), pack-reused 442\u001b[K\n",
      "Receiving objects: 100% (442/442), 6.88 MiB | 27.09 MiB/s, done.\n",
      "Resolving deltas: 100% (253/253), done.\n"
     ]
    }
   ],
   "source": [
    "import os\n",
    "\n",
    "from urllib.request import urlretrieve\n",
    "\n",
    "!git clone https://github.com/sunset1995/pytorch-layoutnet.git"
   ]
  },
  {
   "cell_type": "code",
   "execution_count": 32,
   "metadata": {
    "colab": {
     "base_uri": "https://localhost:8080/",
     "height": 150
    },
    "colab_type": "code",
    "executionInfo": {
     "elapsed": 4900,
     "status": "ok",
     "timestamp": 1560341851030,
     "user": {
      "displayName": "Mark Wells",
      "photoUrl": "",
      "userId": "09399815559124072682"
     },
     "user_tz": -60
    },
    "id": "Df0oGUa1nu-T",
    "outputId": "f042dc74-ec45-45e7-9a7e-8d53bfb2b5bc"
   },
   "outputs": [
    {
     "name": "stdout",
     "output_type": "stream",
     "text": [
      "Collecting torchfile\n",
      "  Downloading https://files.pythonhosted.org/packages/91/af/5b305f86f2d218091af657ddb53f984ecbd9518ca9fe8ef4103a007252c9/torchfile-0.1.0.tar.gz\n",
      "Building wheels for collected packages: torchfile\n",
      "  Building wheel for torchfile (setup.py) ... \u001b[?25l\u001b[?25hdone\n",
      "  Stored in directory: /root/.cache/pip/wheels/b1/c3/d6/9a1cc8f3a99a0fc1124cae20153f36af59a6e683daca0a0814\n",
      "Successfully built torchfile\n",
      "Installing collected packages: torchfile\n",
      "Successfully installed torchfile-0.1.0\n"
     ]
    }
   ],
   "source": [
    "!pip install torchfile"
   ]
  },
  {
   "cell_type": "code",
   "execution_count": null,
   "metadata": {
    "colab": {},
    "colab_type": "code",
    "id": "H_zf1n89C8yc"
   },
   "outputs": [],
   "source": [
    "os.chdir('pytorch-layoutnet')\n",
    "\n"
   ]
  },
  {
   "cell_type": "code",
   "execution_count": 27,
   "metadata": {
    "colab": {
     "base_uri": "https://localhost:8080/",
     "height": 50
    },
    "colab_type": "code",
    "executionInfo": {
     "elapsed": 6853,
     "status": "ok",
     "timestamp": 1560341766901,
     "user": {
      "displayName": "Mark Wells",
      "photoUrl": "",
      "userId": "09399815559124072682"
     },
     "user_tz": -60
    },
    "id": "J_eDGEs1aC4I",
    "outputId": "c8104fa9-6a64-44f3-9ca3-4d102853b6a9"
   },
   "outputs": [
    {
     "data": {
      "text/plain": [
       "('/content/pytorch-layoutnet/ckpt/panofull_joint_box_pretrained.t7',\n",
       " <http.client.HTTPMessage at 0x7f545c3dba90>)"
      ]
     },
     "execution_count": 27,
     "metadata": {
      "tags": []
     },
     "output_type": "execute_result"
    }
   ],
   "source": [
    "#pretrained weight locations\n",
    "pretrained_model_url = r'https://storage.googleapis.com/ucl-interior-desing/model/panofull_joint_box_pretrained.t7'\n",
    "\n",
    "download_path = os.path.join(os.getcwd(), 'ckpt/panofull_joint_box_pretrained.t7')\n",
    "\n",
    "urlretrieve(pretrained_model_url,download_path)"
   ]
  },
  {
   "cell_type": "code",
   "execution_count": 33,
   "metadata": {
    "colab": {
     "base_uri": "https://localhost:8080/",
     "height": 117
    },
    "colab_type": "code",
    "executionInfo": {
     "elapsed": 3555,
     "status": "ok",
     "timestamp": 1560341857975,
     "user": {
      "displayName": "Mark Wells",
      "photoUrl": "",
      "userId": "09399815559124072682"
     },
     "user_tz": -60
    },
    "id": "uGG56k94m72L",
    "outputId": "43897464-c0e9-4b2e-fa9f-0a6189b6976d"
   },
   "outputs": [
    {
     "name": "stdout",
     "output_type": "stream",
     "text": [
      "torch parameters num: 112978658\n",
      "pytorch model parameters num: 94347396\n",
      "Note: fewer parameters then pretrained weights !!!\n",
      "# of parameters matched, start coping\n",
      "\n",
      "All thing well done\n"
     ]
    }
   ],
   "source": [
    "%run torch2pytorch_pretrained_weight.py --torch_pretrained ckpt/panofull_joint_box_pretrained.t7 --encoder ckpt/pre_full_encoder.pth --edg_decoder ckpt/pre_full_edg_decoder.pth --cor_decoder ckpt/pre_full_cor_decoder.pth"
   ]
  },
  {
   "cell_type": "code",
   "execution_count": 34,
   "metadata": {
    "colab": {
     "base_uri": "https://localhost:8080/",
     "height": 33
    },
    "colab_type": "code",
    "executionInfo": {
     "elapsed": 1571,
     "status": "ok",
     "timestamp": 1560341864841,
     "user": {
      "displayName": "Mark Wells",
      "photoUrl": "",
      "userId": "09399815559124072682"
     },
     "user_tz": -60
    },
    "id": "YLAeMlOBMtP9",
    "outputId": "a77573ba-5c12-4442-ca06-1b3d024fa38f"
   },
   "outputs": [
    {
     "data": {
      "text/plain": [
       "('assert/panorama-spa.jpg', <http.client.HTTPMessage at 0x7f54507caa20>)"
      ]
     },
     "execution_count": 34,
     "metadata": {
      "tags": []
     },
     "output_type": "execute_result"
    }
   ],
   "source": [
    "test_image_url = r'https://www.watles.com/media/8c84f01c-0c29-4b78-8fc7-2d4d80847e8f/panorama-spa.jpg'\n",
    "urlretrieve(test_image_url, 'assert/panorama-spa.jpg')"
   ]
  },
  {
   "cell_type": "code",
   "execution_count": 17,
   "metadata": {
    "colab": {
     "base_uri": "https://localhost:8080/",
     "height": 133
    },
    "colab_type": "code",
    "executionInfo": {
     "elapsed": 14357,
     "status": "ok",
     "timestamp": 1560341153297,
     "user": {
      "displayName": "Mark Wells",
      "photoUrl": "",
      "userId": "09399815559124072682"
     },
     "user_tz": -60
    },
    "id": "YMdnkkwJInwt",
    "outputId": "2fd66b43-f61b-45cb-c70c-0456537db6a3"
   },
   "outputs": [
    {
     "name": "stdout",
     "output_type": "stream",
     "text": [
      "Processing assert/panorama-spa.jpg\n"
     ]
    },
    {
     "data": {
      "text/plain": [
       "['demo_aligned_rgb.png',\n",
       " 'demo_VP.txt',\n",
       " 'panorama-spa_aligned_line.png',\n",
       " 'panorama-spa_VP.txt',\n",
       " 'demo_aligned_line.png',\n",
       " 'panorama-spa_aligned_rgb.png']"
      ]
     },
     "execution_count": 17,
     "metadata": {
      "tags": []
     },
     "output_type": "execute_result"
    }
   ],
   "source": [
    "%run visual_preprocess.py  --img_glob assert/panorama-spa.jpg --output_dir assert/output_preprocess/\n",
    "os.listdir('assert/output_preprocess/')"
   ]
  },
  {
   "cell_type": "code",
   "execution_count": 41,
   "metadata": {
    "colab": {
     "base_uri": "https://localhost:8080/",
     "height": 50
    },
    "colab_type": "code",
    "executionInfo": {
     "elapsed": 2840,
     "status": "ok",
     "timestamp": 1560343603032,
     "user": {
      "displayName": "Mark Wells",
      "photoUrl": "",
      "userId": "09399815559124072682"
     },
     "user_tz": -60
    },
    "id": "1CAxoI-yKdnZ",
    "outputId": "a056bbd8-0e3f-4268-e9e4-aebbfa35b7c6"
   },
   "outputs": [
    {
     "name": "stdout",
     "output_type": "stream",
     "text": [
      "img  path: assert/output_preprocess/panorama-spa_aligned_rgb.png\n",
      "line path: assert/output_preprocess/panorama-spa_aligned_rgb.png\n"
     ]
    }
   ],
   "source": [
    "%run visual.py --path_prefix ckpt/pre_full --img_glob assert/output_preprocess/panorama-spa_aligned_rgb.png --line_glob assert/output_preprocess/panorama-spa_aligned_rgb.png --output_dir assert/output"
   ]
  },
  {
   "cell_type": "code",
   "execution_count": 45,
   "metadata": {
    "colab": {
     "base_uri": "https://localhost:8080/",
     "height": 720
    },
    "colab_type": "code",
    "executionInfo": {
     "elapsed": 3974,
     "status": "ok",
     "timestamp": 1560343749335,
     "user": {
      "displayName": "Mark Wells",
      "photoUrl": "",
      "userId": "09399815559124072682"
     },
     "user_tz": -60
    },
    "id": "ebe_ObV6ZV6F",
    "outputId": "c6930342-e9d8-44aa-bbf5-89362efee6d1"
   },
   "outputs": [
    {
     "name": "stdout",
     "output_type": "stream",
     "text": [
      "Collecting open3d-python\n",
      "\u001b[?25l  Downloading https://files.pythonhosted.org/packages/cc/ed/a6ee032c9568bf232cc19a8bb91b1faa2d0610a431e8870c11858a3d84eb/open3d_python-0.7.0.0-cp36-cp36m-manylinux1_x86_64.whl (3.7MB)\n",
      "\u001b[K     |████████████████████████████████| 3.7MB 3.4MB/s \n",
      "\u001b[?25hRequirement already satisfied: numpy in /usr/local/lib/python3.6/dist-packages (from open3d-python) (1.16.4)\n",
      "Requirement already satisfied: ipywidgets in /usr/local/lib/python3.6/dist-packages (from open3d-python) (7.4.2)\n",
      "Requirement already satisfied: notebook in /usr/local/lib/python3.6/dist-packages (from open3d-python) (5.2.2)\n",
      "Requirement already satisfied: widgetsnbextension in /usr/local/lib/python3.6/dist-packages (from open3d-python) (3.4.2)\n",
      "Requirement already satisfied: traitlets>=4.3.1 in /usr/local/lib/python3.6/dist-packages (from ipywidgets->open3d-python) (4.3.2)\n",
      "Requirement already satisfied: nbformat>=4.2.0 in /usr/local/lib/python3.6/dist-packages (from ipywidgets->open3d-python) (4.4.0)\n",
      "Requirement already satisfied: ipython>=4.0.0; python_version >= \"3.3\" in /usr/local/lib/python3.6/dist-packages (from ipywidgets->open3d-python) (5.5.0)\n",
      "Requirement already satisfied: ipykernel>=4.5.1 in /usr/local/lib/python3.6/dist-packages (from ipywidgets->open3d-python) (4.6.1)\n",
      "Requirement already satisfied: nbconvert in /usr/local/lib/python3.6/dist-packages (from notebook->open3d-python) (5.5.0)\n",
      "Requirement already satisfied: tornado>=4 in /usr/local/lib/python3.6/dist-packages (from notebook->open3d-python) (4.5.3)\n",
      "Requirement already satisfied: jupyter-core in /usr/local/lib/python3.6/dist-packages (from notebook->open3d-python) (4.4.0)\n",
      "Requirement already satisfied: ipython-genutils in /usr/local/lib/python3.6/dist-packages (from notebook->open3d-python) (0.2.0)\n",
      "Requirement already satisfied: jupyter-client in /usr/local/lib/python3.6/dist-packages (from notebook->open3d-python) (5.2.4)\n",
      "Requirement already satisfied: terminado>=0.3.3; sys_platform != \"win32\" in /usr/local/lib/python3.6/dist-packages (from notebook->open3d-python) (0.8.2)\n",
      "Requirement already satisfied: jinja2 in /usr/local/lib/python3.6/dist-packages (from notebook->open3d-python) (2.10.1)\n",
      "Requirement already satisfied: decorator in /usr/local/lib/python3.6/dist-packages (from traitlets>=4.3.1->ipywidgets->open3d-python) (4.4.0)\n",
      "Requirement already satisfied: six in /usr/local/lib/python3.6/dist-packages (from traitlets>=4.3.1->ipywidgets->open3d-python) (1.12.0)\n",
      "Requirement already satisfied: jsonschema!=2.5.0,>=2.4 in /usr/local/lib/python3.6/dist-packages (from nbformat>=4.2.0->ipywidgets->open3d-python) (2.6.0)\n",
      "Requirement already satisfied: prompt-toolkit<2.0.0,>=1.0.4 in /usr/local/lib/python3.6/dist-packages (from ipython>=4.0.0; python_version >= \"3.3\"->ipywidgets->open3d-python) (1.0.16)\n",
      "Requirement already satisfied: pexpect; sys_platform != \"win32\" in /usr/local/lib/python3.6/dist-packages (from ipython>=4.0.0; python_version >= \"3.3\"->ipywidgets->open3d-python) (4.7.0)\n",
      "Requirement already satisfied: pygments in /usr/local/lib/python3.6/dist-packages (from ipython>=4.0.0; python_version >= \"3.3\"->ipywidgets->open3d-python) (2.1.3)\n",
      "Requirement already satisfied: setuptools>=18.5 in /usr/local/lib/python3.6/dist-packages (from ipython>=4.0.0; python_version >= \"3.3\"->ipywidgets->open3d-python) (41.0.1)\n",
      "Requirement already satisfied: pickleshare in /usr/local/lib/python3.6/dist-packages (from ipython>=4.0.0; python_version >= \"3.3\"->ipywidgets->open3d-python) (0.7.5)\n",
      "Requirement already satisfied: simplegeneric>0.8 in /usr/local/lib/python3.6/dist-packages (from ipython>=4.0.0; python_version >= \"3.3\"->ipywidgets->open3d-python) (0.8.1)\n",
      "Requirement already satisfied: defusedxml in /usr/local/lib/python3.6/dist-packages (from nbconvert->notebook->open3d-python) (0.6.0)\n",
      "Requirement already satisfied: mistune>=0.8.1 in /usr/local/lib/python3.6/dist-packages (from nbconvert->notebook->open3d-python) (0.8.4)\n",
      "Requirement already satisfied: bleach in /usr/local/lib/python3.6/dist-packages (from nbconvert->notebook->open3d-python) (3.1.0)\n",
      "Requirement already satisfied: entrypoints>=0.2.2 in /usr/local/lib/python3.6/dist-packages (from nbconvert->notebook->open3d-python) (0.3)\n",
      "Requirement already satisfied: pandocfilters>=1.4.1 in /usr/local/lib/python3.6/dist-packages (from nbconvert->notebook->open3d-python) (1.4.2)\n",
      "Requirement already satisfied: testpath in /usr/local/lib/python3.6/dist-packages (from nbconvert->notebook->open3d-python) (0.4.2)\n",
      "Requirement already satisfied: pyzmq>=13 in /usr/local/lib/python3.6/dist-packages (from jupyter-client->notebook->open3d-python) (17.0.0)\n",
      "Requirement already satisfied: python-dateutil>=2.1 in /usr/local/lib/python3.6/dist-packages (from jupyter-client->notebook->open3d-python) (2.5.3)\n",
      "Requirement already satisfied: ptyprocess; os_name != \"nt\" in /usr/local/lib/python3.6/dist-packages (from terminado>=0.3.3; sys_platform != \"win32\"->notebook->open3d-python) (0.6.0)\n",
      "Requirement already satisfied: MarkupSafe>=0.23 in /usr/local/lib/python3.6/dist-packages (from jinja2->notebook->open3d-python) (1.1.1)\n",
      "Requirement already satisfied: wcwidth in /usr/local/lib/python3.6/dist-packages (from prompt-toolkit<2.0.0,>=1.0.4->ipython>=4.0.0; python_version >= \"3.3\"->ipywidgets->open3d-python) (0.1.7)\n",
      "Requirement already satisfied: webencodings in /usr/local/lib/python3.6/dist-packages (from bleach->nbconvert->notebook->open3d-python) (0.5.1)\n",
      "Installing collected packages: open3d-python\n",
      "Successfully installed open3d-python-0.7.0.0\n"
     ]
    }
   ],
   "source": [
    "!pip install open3d-python"
   ]
  },
  {
   "cell_type": "code",
   "execution_count": 46,
   "metadata": {
    "colab": {
     "base_uri": "https://localhost:8080/",
     "height": 345
    },
    "colab_type": "code",
    "executionInfo": {
     "elapsed": 382,
     "status": "ok",
     "timestamp": 1560343758495,
     "user": {
      "displayName": "Mark Wells",
      "photoUrl": "",
      "userId": "09399815559124072682"
     },
     "user_tz": -60
    },
    "id": "HYgqYxuZZRlJ",
    "outputId": "490c10ad-3ecf-4062-9616-3b95e2fe34e3"
   },
   "outputs": [
    {
     "ename": "ImportError",
     "evalue": "ignored",
     "output_type": "error",
     "traceback": [
      "\u001b[0;31m---------------------------------------------------------------------------\u001b[0m",
      "\u001b[0;31mImportError\u001b[0m                               Traceback (most recent call last)",
      "\u001b[0;32m/content/pytorch-layoutnet/visual_3d_layout.py\u001b[0m in \u001b[0;36m<module>\u001b[0;34m()\u001b[0m\n\u001b[1;32m      2\u001b[0m \u001b[0;32mfrom\u001b[0m \u001b[0mscipy\u001b[0m\u001b[0;34m.\u001b[0m\u001b[0mndimage\u001b[0m \u001b[0;32mimport\u001b[0m \u001b[0mmap_coordinates\u001b[0m\u001b[0;34m\u001b[0m\u001b[0;34m\u001b[0m\u001b[0m\n\u001b[1;32m      3\u001b[0m \u001b[0;34m\u001b[0m\u001b[0m\n\u001b[0;32m----> 4\u001b[0;31m \u001b[0;32mimport\u001b[0m \u001b[0mopen3d\u001b[0m\u001b[0;34m\u001b[0m\u001b[0;34m\u001b[0m\u001b[0m\n\u001b[0m\u001b[1;32m      5\u001b[0m \u001b[0;32mfrom\u001b[0m \u001b[0mPIL\u001b[0m \u001b[0;32mimport\u001b[0m \u001b[0mImage\u001b[0m\u001b[0;34m\u001b[0m\u001b[0;34m\u001b[0m\u001b[0m\n\u001b[1;32m      6\u001b[0m \u001b[0;32mfrom\u001b[0m \u001b[0mshapely\u001b[0m\u001b[0;34m.\u001b[0m\u001b[0mgeometry\u001b[0m \u001b[0;32mimport\u001b[0m \u001b[0mPoint\u001b[0m\u001b[0;34m\u001b[0m\u001b[0;34m\u001b[0m\u001b[0m\n",
      "\u001b[0;32m/usr/local/lib/python3.6/dist-packages/open3d/__init__.py\u001b[0m in \u001b[0;36m<module>\u001b[0;34m()\u001b[0m\n\u001b[1;32m     26\u001b[0m \u001b[0;34m\u001b[0m\u001b[0m\n\u001b[1;32m     27\u001b[0m \u001b[0;32mimport\u001b[0m \u001b[0mimportlib\u001b[0m\u001b[0;34m\u001b[0m\u001b[0;34m\u001b[0m\u001b[0m\n\u001b[0;32m---> 28\u001b[0;31m \u001b[0;32mfrom\u001b[0m \u001b[0;34m.\u001b[0m\u001b[0mopen3d\u001b[0m \u001b[0;32mimport\u001b[0m \u001b[0;34m*\u001b[0m \u001b[0;31m# py2 py3 compatible\u001b[0m\u001b[0;34m\u001b[0m\u001b[0;34m\u001b[0m\u001b[0m\n\u001b[0m\u001b[1;32m     29\u001b[0m \u001b[0;32mfrom\u001b[0m \u001b[0;34m.\u001b[0m\u001b[0mopen3d\u001b[0m\u001b[0;34m.\u001b[0m\u001b[0mcamera\u001b[0m \u001b[0;32mimport\u001b[0m \u001b[0;34m*\u001b[0m\u001b[0;34m\u001b[0m\u001b[0;34m\u001b[0m\u001b[0m\n\u001b[1;32m     30\u001b[0m \u001b[0;32mfrom\u001b[0m \u001b[0;34m.\u001b[0m\u001b[0mopen3d\u001b[0m\u001b[0;34m.\u001b[0m\u001b[0mcolor_map\u001b[0m \u001b[0;32mimport\u001b[0m \u001b[0;34m*\u001b[0m\u001b[0;34m\u001b[0m\u001b[0;34m\u001b[0m\u001b[0m\n",
      "\u001b[0;31mImportError\u001b[0m: Invalid character class."
     ]
    }
   ],
   "source": [
    "%run visual_3d_layout.py --ignore_ceiling --img assert/output_preprocess/panorama-spa_aligned_rgb.png --layout  assert/output/panorama-spa_aligned_rgb_cor_id.txt"
   ]
  },
  {
   "cell_type": "code",
   "execution_count": null,
   "metadata": {
    "colab": {},
    "colab_type": "code",
    "id": "0YHRk8XIZ3Px"
   },
   "outputs": [],
   "source": []
  }
 ],
 "metadata": {
  "accelerator": "GPU",
  "colab": {
   "name": "LayoutNet.ipynb",
   "provenance": [],
   "version": "0.3.2"
  },
  "kernelspec": {
   "display_name": "Python 3",
   "language": "python",
   "name": "python3"
  },
  "language_info": {
   "codemirror_mode": {
    "name": "ipython",
    "version": 3
   },
   "file_extension": ".py",
   "mimetype": "text/x-python",
   "name": "python",
   "nbconvert_exporter": "python",
   "pygments_lexer": "ipython3",
   "version": "3.5.3"
  }
 },
 "nbformat": 4,
 "nbformat_minor": 2
}
