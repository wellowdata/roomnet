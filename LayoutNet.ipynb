{
 "cells": [
  {
   "cell_type": "code",
   "execution_count": 13,
   "metadata": {
    "colab": {
     "base_uri": "https://localhost:8080/",
     "height": 100
    },
    "colab_type": "code",
    "executionInfo": {
     "elapsed": 2989,
     "status": "ok",
     "timestamp": 1560340987649,
     "user": {
      "displayName": "Mark Wells",
      "photoUrl": "",
      "userId": "09399815559124072682"
     },
     "user_tz": -60
    },
    "id": "kdfor8hkC40a",
    "outputId": "8db0bdfc-5508-4ea3-cd54-c201b26c412f"
   },
   "outputs": [],
   "source": [
    "import os\n",
    "\n",
    "from re import sub\n",
    "from shutil import copyfile\n",
    "\n",
    "os.chdir('/home/jupyter/pytorch-layoutnet')"
   ]
  },
  {
   "cell_type": "code",
   "execution_count": 2,
   "metadata": {
    "colab": {
     "base_uri": "https://localhost:8080/",
     "height": 50
    },
    "colab_type": "code",
    "executionInfo": {
     "elapsed": 6853,
     "status": "ok",
     "timestamp": 1560341766901,
     "user": {
      "displayName": "Mark Wells",
      "photoUrl": "",
      "userId": "09399815559124072682"
     },
     "user_tz": -60
    },
    "id": "J_eDGEs1aC4I",
    "outputId": "c8104fa9-6a64-44f3-9ca3-4d102853b6a9"
   },
   "outputs": [],
   "source": [
    "# #pretrained weight locations\n",
    "# pretrained_model_url = r'https://storage.googleapis.com/ucl-interior-desing/model/panofull_joint_box_pretrained.t7'\n",
    "\n",
    "# download_path = os.path.join('/home/jupyter/pytorch-layoutnet', 'ckpt/panofull_joint_box_pretrained.t7')\n",
    "\n",
    "# urlretrieve(pretrained_model_url,download_path)"
   ]
  },
  {
   "cell_type": "code",
   "execution_count": 3,
   "metadata": {
    "colab": {
     "base_uri": "https://localhost:8080/",
     "height": 117
    },
    "colab_type": "code",
    "executionInfo": {
     "elapsed": 3555,
     "status": "ok",
     "timestamp": 1560341857975,
     "user": {
      "displayName": "Mark Wells",
      "photoUrl": "",
      "userId": "09399815559124072682"
     },
     "user_tz": -60
    },
    "id": "uGG56k94m72L",
    "outputId": "43897464-c0e9-4b2e-fa9f-0a6189b6976d"
   },
   "outputs": [
    {
     "name": "stdout",
     "output_type": "stream",
     "text": [
      "torch parameters num: 112978658\n",
      "pytorch model parameters num: 94347396\n",
      "Note: fewer parameters then pretrained weights !!!\n",
      "# of parameters matched, start coping\n",
      "\n",
      "All thing well done\n"
     ]
    }
   ],
   "source": [
    "%run torch2pytorch_pretrained_weight.py --torch_pretrained ckpt/panofull_joint_box_pretrained.t7 --encoder ckpt/pre_full_encoder.pth --edg_decoder ckpt/pre_full_edg_decoder.pth --cor_decoder ckpt/pre_full_cor_decoder.pth"
   ]
  },
  {
   "cell_type": "code",
   "execution_count": 4,
   "metadata": {
    "colab": {
     "base_uri": "https://localhost:8080/",
     "height": 33
    },
    "colab_type": "code",
    "executionInfo": {
     "elapsed": 1571,
     "status": "ok",
     "timestamp": 1560341864841,
     "user": {
      "displayName": "Mark Wells",
      "photoUrl": "",
      "userId": "09399815559124072682"
     },
     "user_tz": -60
    },
    "id": "YLAeMlOBMtP9",
    "outputId": "a77573ba-5c12-4442-ca06-1b3d024fa38f"
   },
   "outputs": [],
   "source": [
    "directory = '/home/jupyter/ADE20K_2016_07_26/images/training/a/art_studio'\n",
    "for filename in os.listdir(directory):\n",
    "    if filename.endswith(\".jpg\"):\n",
    "        testimage = filename\n",
    "    "
   ]
  },
  {
   "cell_type": "code",
   "execution_count": 15,
   "metadata": {
    "colab": {
     "base_uri": "https://localhost:8080/",
     "height": 133
    },
    "colab_type": "code",
    "executionInfo": {
     "elapsed": 14357,
     "status": "ok",
     "timestamp": 1560341153297,
     "user": {
      "displayName": "Mark Wells",
      "photoUrl": "",
      "userId": "09399815559124072682"
     },
     "user_tz": -60
    },
    "id": "YMdnkkwJInwt",
    "outputId": "2fd66b43-f61b-45cb-c70c-0456537db6a3"
   },
   "outputs": [
    {
     "name": "stdout",
     "output_type": "stream",
     "text": [
      "Processing assert/ADE_train_00001736.jpg\n"
     ]
    },
    {
     "data": {
      "text/plain": [
       "['demo_aligned_line.png',\n",
       " 'ADE_train_00001736_VP.txt',\n",
       " 'demo_aligned_rgb.png',\n",
       " 'ADE_train_00001736_aligned_rgb.png',\n",
       " 'ADE_train_00001736_aligned_line.png',\n",
       " 'demo_VP.txt']"
      ]
     },
     "execution_count": 15,
     "metadata": {},
     "output_type": "execute_result"
    }
   ],
   "source": [
    "testim_short = sub('.jpg', '', testimage)\n",
    "orig_filepath = '/home/jupyter/ADE20K_2016_07_26/images/training/a/art_studio/{}'.format(testimage)\n",
    "\n",
    "assert_path = 'assert/{}'.format(testimage)\n",
    "\n",
    "copyfile(orig_filepath, assert_path)\n",
    "\n",
    "%run visual_preprocess.py  --img_glob $assert_path --output_dir assert/output_preprocess/\n",
    "os.listdir('assert/output_preprocess/')"
   ]
  },
  {
   "cell_type": "code",
   "execution_count": 11,
   "metadata": {},
   "outputs": [
    {
     "data": {
      "text/plain": [
       "'/home/jupyter/ADE20K_2016_07_26/images/training/a/art_studio/ADE_train_00001736.jpg'"
      ]
     },
     "execution_count": 11,
     "metadata": {},
     "output_type": "execute_result"
    }
   ],
   "source": [
    "assert_path"
   ]
  },
  {
   "cell_type": "code",
   "execution_count": 16,
   "metadata": {
    "colab": {
     "base_uri": "https://localhost:8080/",
     "height": 50
    },
    "colab_type": "code",
    "executionInfo": {
     "elapsed": 2840,
     "status": "ok",
     "timestamp": 1560343603032,
     "user": {
      "displayName": "Mark Wells",
      "photoUrl": "",
      "userId": "09399815559124072682"
     },
     "user_tz": -60
    },
    "id": "1CAxoI-yKdnZ",
    "outputId": "a056bbd8-0e3f-4268-e9e4-aebbfa35b7c6"
   },
   "outputs": [
    {
     "name": "stderr",
     "output_type": "stream",
     "text": [
      "usage: visual.py [-h] [--path_prefix PATH_PREFIX] [--device DEVICE] --img_glob\n",
      "                 IMG_GLOB --line_glob LINE_GLOB --output_dir OUTPUT_DIR\n",
      "                 [--flip] [--rotate [ROTATE [ROTATE ...]]] [--d1 D1] [--d2 D2]\n",
      "                 [--post_optimization]\n",
      "visual.py: error: argument --img_glob: expected one argument\n"
     ]
    },
    {
     "ename": "SystemExit",
     "evalue": "2",
     "output_type": "error",
     "traceback": [
      "An exception has occurred, use %tb to see the full traceback.\n",
      "\u001b[0;31mSystemExit\u001b[0m\u001b[0;31m:\u001b[0m 2\n"
     ]
    }
   ],
   "source": [
    "output_image_path = 'assert/output_preprocess/{}_aligned_rgb.png'.format(testim_short)\n",
    "%run visual.py --path_prefix ckpt/pre_full --img_glob  --line_glob assert/output_preprocess/panorama-spa_aligned_rgb.png --output_dir assert/output"
   ]
  },
  {
   "cell_type": "code",
   "execution_count": null,
   "metadata": {
    "colab": {
     "base_uri": "https://localhost:8080/",
     "height": 345
    },
    "colab_type": "code",
    "executionInfo": {
     "elapsed": 382,
     "status": "ok",
     "timestamp": 1560343758495,
     "user": {
      "displayName": "Mark Wells",
      "photoUrl": "",
      "userId": "09399815559124072682"
     },
     "user_tz": -60
    },
    "id": "HYgqYxuZZRlJ",
    "outputId": "490c10ad-3ecf-4062-9616-3b95e2fe34e3"
   },
   "outputs": [],
   "source": [
    "%run visual_3d_layout.py --ignore_ceiling --img assert/output_preprocess/panorama-spa_aligned_rgb.png --layout  assert/output/panorama-spa_aligned_rgb_cor_id.txt"
   ]
  },
  {
   "cell_type": "code",
   "execution_count": null,
   "metadata": {
    "colab": {},
    "colab_type": "code",
    "id": "0YHRk8XIZ3Px"
   },
   "outputs": [],
   "source": []
  }
 ],
 "metadata": {
  "accelerator": "GPU",
  "colab": {
   "name": "LayoutNet.ipynb",
   "provenance": [],
   "version": "0.3.2"
  },
  "kernelspec": {
   "display_name": "Python 3",
   "language": "python",
   "name": "python3"
  },
  "language_info": {
   "codemirror_mode": {
    "name": "ipython",
    "version": 3
   },
   "file_extension": ".py",
   "mimetype": "text/x-python",
   "name": "python",
   "nbconvert_exporter": "python",
   "pygments_lexer": "ipython3",
   "version": "3.5.3"
  }
 },
 "nbformat": 4,
 "nbformat_minor": 2
}
